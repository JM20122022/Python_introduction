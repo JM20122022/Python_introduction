{
  "nbformat": 4,
  "nbformat_minor": 0,
  "metadata": {
    "colab": {
      "provenance": [],
      "authorship_tag": "ABX9TyNgg65gbCialpNK5RxJfi1K",
      "include_colab_link": true
    },
    "kernelspec": {
      "name": "python3",
      "display_name": "Python 3"
    },
    "language_info": {
      "name": "python"
    }
  },
  "cells": [
    {
      "cell_type": "markdown",
      "metadata": {
        "id": "view-in-github",
        "colab_type": "text"
      },
      "source": [
        "<a href=\"https://colab.research.google.com/github/JM20122022/Python_introduction/blob/main/HW_4.ipynb\" target=\"_parent\"><img src=\"https://colab.research.google.com/assets/colab-badge.svg\" alt=\"Open In Colab\"/></a>"
      ]
    },
    {
      "cell_type": "code",
      "execution_count": 12,
      "metadata": {
        "id": "-GS-2s5cxFkv"
      },
      "outputs": [],
      "source": [
        "# # Задача 22: Даны два неупорядоченных набора целых чисел (может быть, с повторениями).\n",
        "# # Выдать без повторений в порядке возрастания все те числа, которые встречаются в обоих наборах.\n",
        "# # Пользователь вводит 2 числа. n — кол-во элементов первого множества. m — кол-во элементов второго\n",
        "# # множества. Затем пользователь вводит сами элементы множеств.\n"
      ]
    },
    {
      "cell_type": "code",
      "source": [
        "import random"
      ],
      "metadata": {
        "id": "P2NA9nOZxW_D"
      },
      "execution_count": 4,
      "outputs": []
    },
    {
      "cell_type": "code",
      "source": [
        "n = int(input('Insert the quantity for the first set: '))\n",
        "m = int(input('Insert the quantity for the second set: '))"
      ],
      "metadata": {
        "colab": {
          "base_uri": "https://localhost:8080/"
        },
        "id": "EvwBnxVdya0_",
        "outputId": "581fe2a5-bd97-451c-e9da-79b5ca7f1d7d"
      },
      "execution_count": 1,
      "outputs": [
        {
          "name": "stdout",
          "output_type": "stream",
          "text": [
            "Insert the quantity for the first set: 8\n",
            "Insert the quantity for the second set: 7\n"
          ]
        }
      ]
    },
    {
      "cell_type": "code",
      "source": [
        "list1 = [random.randint(0, 10) for i in range(n)]\n",
        "list2 = [random.randint(0, 10) for i in range(m)]\n",
        "print(list1, list2)\n",
        "list1 = set(list1)\n",
        "list2 = set(list2)"
      ],
      "metadata": {
        "colab": {
          "base_uri": "https://localhost:8080/"
        },
        "id": "KIDIrVRPy9zl",
        "outputId": "b6572d77-e889-4316-afd8-38e94d9d8dc3"
      },
      "execution_count": 5,
      "outputs": [
        {
          "output_type": "stream",
          "name": "stdout",
          "text": [
            "[0, 0, 0, 1, 1, 8, 5, 8] [1, 10, 2, 7, 5, 3, 4]\n"
          ]
        }
      ]
    },
    {
      "cell_type": "code",
      "source": [
        " list3 = list1.union(list2)\n",
        " print(list3)"
      ],
      "metadata": {
        "colab": {
          "base_uri": "https://localhost:8080/"
        },
        "id": "fRb4WLwm0vLL",
        "outputId": "4e652640-a25c-44ab-9c1c-7c94459145a5"
      },
      "execution_count": 6,
      "outputs": [
        {
          "output_type": "stream",
          "name": "stdout",
          "text": [
            "{0, 1, 2, 3, 4, 5, 7, 8, 10}\n"
          ]
        }
      ]
    },
    {
      "cell_type": "code",
      "source": [
        "\n",
        "# # Задача 24: В фермерском хозяйстве в Карелии выращивают чернику. Она растёт на круглой грядке, причём кусты высажены только по окружности.\n",
        "# Таким образом, у каждого куста есть ровно два соседних. Всего на грядке растёт N кустов.\n",
        "# # Эти кусты обладают разной урожайностью, поэтому ко времени сбора на них выросло различное число ягод — на i-ом кусте выросло ai ягод.\n",
        "# # В этом фермерском хозяйстве внедрена система автоматического сбора черники. Эта система состоит из управляющего модуля и нескольких собирающих модулей.\n",
        "# Собирающий модуль за один заход, находясь непосредственно перед некоторым кустом, собирает ягоды с этого куста и с двух соседних с ним.\n",
        "# # Напишите программу для нахождения максимального числа ягод, которое может собрать за один заход собирающий модуль, находясь перед некоторым\n",
        "#  кустом заданной во входном файле грядки."
      ],
      "metadata": {
        "id": "AstoeuPl1b96"
      },
      "execution_count": 13,
      "outputs": []
    },
    {
      "cell_type": "code",
      "source": [
        "bush = int(input(\"Insert the number of bushes \"))\n"
      ],
      "metadata": {
        "colab": {
          "base_uri": "https://localhost:8080/"
        },
        "id": "4b_fDV4l13R9",
        "outputId": "7da9facc-078c-4945-9b10-d1fd0b6943ed"
      },
      "execution_count": 26,
      "outputs": [
        {
          "name": "stdout",
          "output_type": "stream",
          "text": [
            "Insert the number of bushes 7\n"
          ]
        }
      ]
    },
    {
      "cell_type": "code",
      "source": [
        "berries = [random.randint(0, 10) for i in range(bush)]\n",
        "result = []\n",
        "i = 0\n",
        "sum = 0\n",
        "print(berries)"
      ],
      "metadata": {
        "colab": {
          "base_uri": "https://localhost:8080/"
        },
        "id": "aibLNJPxSuWI",
        "outputId": "7aaf205e-aadc-4439-973d-fd798177ae5c"
      },
      "execution_count": 27,
      "outputs": [
        {
          "output_type": "stream",
          "name": "stdout",
          "text": [
            "[10, 0, 9, 7, 9, 8, 5]\n"
          ]
        }
      ]
    },
    {
      "cell_type": "code",
      "source": [
        "while (i<bush):\n",
        "  if (i == bush - 1):\n",
        "    sum = berries[i] + berries[i-1] + berries[0]\n",
        "  elif ( i == bush -2):\n",
        "    sum = berries[i] + berries[1] + berries[0]\n",
        "  else:\n",
        "    sum = berries[i] + berries[i-1] + berries[i+1]\n",
        "    result.append(sum)\n",
        "    result.sort()\n",
        "  i += 1\n",
        "print(f'Maximum berries in one go {result[-1]}')\n"
      ],
      "metadata": {
        "colab": {
          "base_uri": "https://localhost:8080/"
        },
        "id": "6Q9QlGolS6dm",
        "outputId": "2deb438b-bfc4-4921-b340-ddf672405b8b"
      },
      "execution_count": 28,
      "outputs": [
        {
          "output_type": "stream",
          "name": "stdout",
          "text": [
            "Maximum berries in one go 25\n"
          ]
        }
      ]
    },
    {
      "cell_type": "code",
      "source": [],
      "metadata": {
        "id": "fJfP0VkcUt-N"
      },
      "execution_count": null,
      "outputs": []
    }
  ]
}